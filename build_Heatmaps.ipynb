{
 "cells": [
  {
   "cell_type": "code",
   "execution_count": 4,
   "metadata": {},
   "outputs": [
    {
     "name": "stdout",
     "output_type": "stream",
     "text": [
      "3680 annotations saved to annotations.pkl!\n"
     ]
    }
   ],
   "source": [
    "import os\n",
    "import pickle\n",
    "\n",
    "# Directory containing .pkl files\n",
    "directory_path = \"Data/Output/Resized/annotations\"\n",
    "output_file = \"annotations.pkl\"\n",
    "\n",
    "# Function to load and merge pickle files\n",
    "def load_and_merge_pickles(directory_path):\n",
    "    merged_data = {}\n",
    "    for file_name in os.listdir(directory_path):\n",
    "        if file_name.endswith(\".pkl\"):\n",
    "            file_path = os.path.join(directory_path, file_name)\n",
    "            with open(file_path, \"rb\") as f:\n",
    "                data = pickle.load(f)\n",
    "                if isinstance(data, dict):\n",
    "                    merged_data.update(data)\n",
    "    return merged_data\n",
    "\n",
    "# Load and merge dictionaries\n",
    "merged_annotations = load_and_merge_pickles(directory_path)\n",
    "\n",
    "# Save annotations to a .pkl file\n",
    "with open(directory_path+'/'+output_file, \"wb\") as f:\n",
    "    pickle.dump(merged_annotations, f)\n",
    "\n",
    "print(f\"{len(merged_annotations)} annotations saved to {output_file}!\")"
   ]
  },
  {
   "cell_type": "code",
   "execution_count": 1,
   "metadata": {},
   "outputs": [
    {
     "name": "stdout",
     "output_type": "stream",
     "text": [
      "Generated 3680 heatmaps in Data/Output/Resized/heatmaps/\n"
     ]
    }
   ],
   "source": [
    "import os\n",
    "import pickle\n",
    "import numpy as np\n",
    "import matplotlib.pyplot as plt\n",
    "\n",
    "# Parameters\n",
    "merged_annotations_file = \"Data/Output/Resized/annotations/annotations.pkl\"\n",
    "output_dir = \"Data/Output/Resized/heatmaps/\"\n",
    "os.makedirs(output_dir, exist_ok=True)\n",
    "\n",
    "def generate_gaussian_heatmap(size, center, intensity=1.0, sigma=100):\n",
    "    x0, y0 = center\n",
    "    x = np.arange(size[0])\n",
    "    y = np.arange(size[1])\n",
    "    X, Y = np.meshgrid(x, y)\n",
    "    heatmap = intensity * np.exp(-((X - x0)**2 + (Y - y0)**2) / (2 * sigma**2))\n",
    "    return heatmap\n",
    "\n",
    "# Load merged annotations\n",
    "with open(merged_annotations_file, \"rb\") as f:\n",
    "    annotations = pickle.load(f)\n",
    "\n",
    "# Generate heatmaps\n",
    "for img_name, (x, y) in annotations.items():\n",
    "    heatmap = generate_gaussian_heatmap((500, 500), (x, y), intensity=1.0, sigma=50)\n",
    "    plt.imsave(os.path.join(output_dir, f\"{img_name.split('.')[0]}_heatmap.png\"), heatmap, cmap='gray')\n",
    "\n",
    "print(f\"Generated {len(annotations)} heatmaps in {output_dir}\")"
   ]
  }
 ],
 "metadata": {
  "kernelspec": {
   "display_name": "usr",
   "language": "python",
   "name": "python3"
  },
  "language_info": {
   "codemirror_mode": {
    "name": "ipython",
    "version": 3
   },
   "file_extension": ".py",
   "mimetype": "text/x-python",
   "name": "python",
   "nbconvert_exporter": "python",
   "pygments_lexer": "ipython3",
   "version": "3.8.10"
  }
 },
 "nbformat": 4,
 "nbformat_minor": 2
}
